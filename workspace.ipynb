{
 "cells": [
  {
   "cell_type": "code",
   "execution_count": null,
   "id": "fc72fdc6",
   "metadata": {},
   "outputs": [],
   "source": [
    "import importlib\n",
    "import generate_results\n",
    "importlib.reload(generate_results)\n",
    "\n",
    "# map (dict): {\"00\":[(start,end),(start,end)], \"01\":[(start,end)], ...}\n",
    "map = generate_results.read_seq_excerpts_file()\n",
    "\n",
    "\n",
    "\n",
    "map = {\n",
    "    \"00\" : [(0,999),(1000,1999),(3000,3999),(4000,4540)],\n",
    "    \"01\" : [(0,999)],\n",
    "    \"02\" : [(0,999),(1000,1999)],\n",
    "    \"03\" : [(0,800)],\n",
    "    \"04\" : [(0,270)],\n",
    "    \"05\" : [(0,999),(1000,1999),(2000,2760)],\n",
    "    \"06\" : [(0,1100)],\n",
    "    \"07\" : [(0,1100)],\n",
    "    \"08\" : [(0,999),(1000,1999),(2000,2999),(3000,4070)],\n",
    "    \"09\" : [(0,999),(1000,1590)],\n",
    "    \"10\" : [(0,1200)],\n",
    "}\n",
    "\n",
    "\n",
    "for seq,intervals in map.items():\n",
    "    for interval in intervals:\n",
    "        frame_start, frame_end = interval\n",
    "        generate_results.generate_poses(seq,frame_start,frame_end,False)\n",
    "        generate_results.generate_poses(seq,frame_start,frame_end,True,False)\n",
    "        generate_results.generate_poses(seq,frame_start,frame_end,True,True,1)\n",
    "\n",
    "\n",
    "generate_results.compare_metrics(map,(False,False,0),(True,False,0)) \n",
    "generate_results.compare_metrics(map,(True,False,0),(True,True,1))\n",
    "generate_results.compare_metrics(map,(False,False,0),(True,True,1)) \n",
    "\n",
    "#generate_results.generate_video(map,True,1) \n",
    "\n",
    "generate_results.generate_all_graphs(map,[(False,False,0),(True,False,0),(True,True,1)])  "
   ]
  },
  {
   "cell_type": "markdown",
   "id": "e700fa5b",
   "metadata": {},
   "source": [
    "# YOLO training"
   ]
  },
  {
   "cell_type": "code",
   "execution_count": null,
   "id": "53cf8b61",
   "metadata": {},
   "outputs": [],
   "source": [
    "import train_YOLO\n",
    "\n",
    "#train_YOLO.prepare_yolo_txt_files()\n",
    "\n",
    "N = int(7481*0.1)\n",
    "#train_YOLO.move_all(\"val\",\"train\")\n",
    "train_YOLO.move_random(N,\"train\",\"test\")\n",
    "train_YOLO.move_random(N,\"train\",\"val\")"
   ]
  },
  {
   "cell_type": "code",
   "execution_count": null,
   "id": "115426dc",
   "metadata": {},
   "outputs": [],
   "source": [
    "from ultralytics import YOLO\n",
    "\n",
    "# OBS: ver path no arquivo json em C:\\Users\\mglab\\AppData\\Roaming\\Ultralytics\n",
    "\n",
    "model = YOLO(\"yolo11n.pt\")\n",
    "\n",
    "results=model.train(\n",
    "    data = \"/content/drive/MyDrive/Colab Notebooks/ita_TG/dataset_train_yolo/data.yaml\",\n",
    "    epochs = 100,\n",
    "    imgsz = 640,\n",
    "    batch = 16,\n",
    "    optimizer = \"Adam\",\n",
    "    lr0=0.0005,\n",
    "    device=\"0\",\n",
    "    name=\"YOLO_KITTI\",\n",
    "    save=True,\n",
    "    save_period=10,\n",
    "    save_json=False,\n",
    "    exist_ok=True,\n",
    "    resume=False,\n",
    "    patience=10\n",
    ")"
   ]
  }
 ],
 "metadata": {
  "kernelspec": {
   "display_name": "Python 3",
   "language": "python",
   "name": "python3"
  },
  "language_info": {
   "codemirror_mode": {
    "name": "ipython",
    "version": 3
   },
   "file_extension": ".py",
   "mimetype": "text/x-python",
   "name": "python",
   "nbconvert_exporter": "python",
   "pygments_lexer": "ipython3",
   "version": "3.13.0"
  }
 },
 "nbformat": 4,
 "nbformat_minor": 5
}
